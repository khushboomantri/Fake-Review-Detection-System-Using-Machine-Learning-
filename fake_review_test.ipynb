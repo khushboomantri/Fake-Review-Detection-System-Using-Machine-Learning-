{
 "cells": [
  {
   "cell_type": "markdown",
   "metadata": {},
   "source": [
    "# Fake Spam Detector"
   ]
  },
  {
   "cell_type": "markdown",
   "metadata": {},
   "source": [
    "Basically I am importing the datasets and storing the datas in three columns : \n",
    "*Polarity of the review\n",
    "*Review itself\n",
    "*True or Deceptive as ('t' or 'd')\n",
    "\n",
    "Then I am converting 't' to 1 and 'd' to 0 because I will be using this as my target value and the review as my feature.\n",
    "Then I am splitting the Review data into testing data and training data (0.3 and 0.7 respectively).\n",
    "Then I am using CountVectorizer() to extract numeric features of each of the review as classifier can only use numeric data to compute something.\n",
    "Then I am using MultinomialNB method classifier to classify the reviews as Deceptive/True."
   ]
  },
  {
   "cell_type": "markdown",
   "metadata": {},
   "source": [
    "Dependencies I used :\n",
    "* os for loading os folder paths\n",
    "* pandas for making dataframes\n",
    "* numpy for making arrays\n",
    "* sklearn.metrics for accuracy score, precision score, recall score, f1 score\n",
    "* sklearn.cross_validation for splitting the dataset\n",
    "* CountVectorizer() for extracting features from text in numerical form\n",
    "* MultinomialNB for importing naive bayes multinomial method classifier"
   ]
  },
  {
   "cell_type": "markdown",
   "metadata": {},
   "source": [
    "**Importing all the dependencies that will be needed.**\n"
   ]
  },
  {
   "cell_type": "code",
   "execution_count": 1,
   "metadata": {},
   "outputs": [
    {
     "name": "stderr",
     "output_type": "stream",
     "text": [
      "/home/ankita/anaconda3/lib/python3.7/site-packages/sklearn/cross_validation.py:41: DeprecationWarning: This module was deprecated in version 0.18 in favor of the model_selection module into which all the refactored classes and functions are moved. Also note that the interface of the new CV iterators are different from that of this module. This module will be removed in 0.20.\n",
      "  \"This module will be removed in 0.20.\", DeprecationWarning)\n"
     ]
    }
   ],
   "source": [
    "import os\n",
    "import numpy as np\n",
    "import pandas as pd\n",
    "from sklearn import metrics\n",
    "from sklearn.metrics import precision_score\n",
    "from sklearn.metrics import recall_score\n",
    "from sklearn.metrics import f1_score\n",
    "from sklearn import cross_validation\n",
    "from sklearn.feature_extraction.text import CountVectorizer\n",
    "from sklearn.naive_bayes import MultinomialNB\n",
    "from sklearn.cross_validation import train_test_split"
   ]
  },
  {
   "cell_type": "markdown",
   "metadata": {},
   "source": [
    "**Setting up the folder paths in which the dataset is present**\n"
   ]
  },
  {
   "cell_type": "code",
   "execution_count": 2,
   "metadata": {},
   "outputs": [],
   "source": [
    "neg_deceptive_folder_path = './negative_polarity/deceptive_from_MTurk/'\n",
    "neg_true_folder_path = './negative_polarity/truthful_from_Web/'\n",
    "pos_deceptive_folder_path = './positive_polarity/deceptive_from_MTurk/'\n",
    "pos_true_folder_path = './positive_polarity/truthful_from_TripAdvisor/'"
   ]
  },
  {
   "cell_type": "markdown",
   "metadata": {},
   "source": [
    "**Initialising the lists in which the polarity, review and either it's fake or true will be stored**"
   ]
  },
  {
   "cell_type": "code",
   "execution_count": 3,
   "metadata": {},
   "outputs": [],
   "source": [
    "polarity_class = []\n",
    "reviews = []\n",
    "spamity_class =[]"
   ]
  },
  {
   "cell_type": "markdown",
   "metadata": {},
   "source": [
    "** Since we have 5 folders in each folder in our dataset, I am using a for loop to iterate through each of the folder and collect datas (i.e Polarity, Review, Fake or True) and store**"
   ]
  },
  {
   "cell_type": "code",
   "execution_count": 4,
   "metadata": {},
   "outputs": [],
   "source": [
    "for i in range(1,6):\n",
    "    insideptru = pos_true_folder_path + 'fold' + str(i) \n",
    "    insidepdec = pos_deceptive_folder_path + 'fold' + str(i)\n",
    "    insidentru = neg_true_folder_path + 'fold' + str(i) \n",
    "    insidendec = neg_deceptive_folder_path + 'fold' + str(i) \n",
    "    pos_list = []\n",
    "    for data_file in sorted(os.listdir(insidendec)):\n",
    "        polarity_class.append('negative')\n",
    "        spamity_class.append(str(data_file.split('_')[0]))\n",
    "        with open(os.path.join(insidendec, data_file)) as f:\n",
    "                contents = f.read()\n",
    "                reviews.append(contents)\n",
    "    for data_file in sorted(os.listdir(insidentru)):\n",
    "        polarity_class.append('negative')\n",
    "        spamity_class.append(str(data_file.split('_')[0]))\n",
    "        with open(os.path.join(insidentru, data_file)) as f:\n",
    "                contents = f.read()\n",
    "                reviews.append(contents)\n",
    "    for data_file in sorted(os.listdir(insidepdec)):\n",
    "        polarity_class.append('positive')\n",
    "        spamity_class.append(str(data_file.split('_')[0]))\n",
    "        with open(os.path.join(insidepdec, data_file)) as f:\n",
    "                contents = f.read()\n",
    "                reviews.append(contents)\n",
    "    for data_file in sorted(os.listdir(insideptru)):\n",
    "        polarity_class.append('positive')\n",
    "        spamity_class.append(str(data_file.split('_')[0]))\n",
    "        with open(os.path.join(insideptru, data_file)) as f:\n",
    "                contents = f.read()\n",
    "                reviews.append(contents)\n"
   ]
  },
  {
   "cell_type": "markdown",
   "metadata": {},
   "source": [
    "** Making the dataframe using pandas to store polarity, reviews and true or fake **"
   ]
  },
  {
   "cell_type": "markdown",
   "metadata": {},
   "source": [
    "*Setting '0' for deceptive review and '1' for true review*"
   ]
  },
  {
   "cell_type": "code",
   "execution_count": 5,
   "metadata": {},
   "outputs": [],
   "source": [
    "data_fm = pd.DataFrame({'polarity_class':polarity_class,'review':reviews,'spamity_class':spamity_class})\n",
    "\n",
    "data_fm.loc[data_fm['spamity_class']=='d','spamity_class']=0\n",
    "data_fm.loc[data_fm['spamity_class']=='t','spamity_class']=1"
   ]
  },
  {
   "cell_type": "markdown",
   "metadata": {},
   "source": [
    "** Splitting the dataset to training and testing (0.7 and 0.3)**"
   ]
  },
  {
   "cell_type": "code",
   "execution_count": 6,
   "metadata": {},
   "outputs": [],
   "source": [
    "data_x = data_fm['review']\n",
    "\n",
    "data_y = np.asarray(data_fm['spamity_class'],dtype=int)\n",
    "\n",
    "X_train, X_test, y_train, y_test = cross_validation.train_test_split(data_x, data_y, test_size=0.3,random_state=35)\n",
    "\n",
    "\n"
   ]
  },
  {
   "cell_type": "markdown",
   "metadata": {},
   "source": [
    "** Using CountVectorizer() method to extract features from the text reviews and convert it to numeric data, which can be used to train the classifier **"
   ]
  },
  {
   "cell_type": "markdown",
   "metadata": {},
   "source": [
    "*Using fit_transform() for X_train and only using transform() for X_test*"
   ]
  },
  {
   "cell_type": "code",
   "execution_count": 7,
   "metadata": {},
   "outputs": [],
   "source": [
    "cv =  CountVectorizer()\n",
    "\n",
    "X_traincv = cv.fit_transform(X_train)\n",
    "X_testcv = cv.transform(X_test)"
   ]
  },
  {
   "cell_type": "markdown",
   "metadata": {},
   "source": [
    "**Using Naive Bayes Multinomial method as the classifier and training the data**"
   ]
  },
  {
   "cell_type": "code",
   "execution_count": 8,
   "metadata": {},
   "outputs": [
    {
     "data": {
      "text/plain": [
       "MultinomialNB(alpha=1.0, class_prior=None, fit_prior=True)"
      ]
     },
     "execution_count": 8,
     "metadata": {},
     "output_type": "execute_result"
    }
   ],
   "source": [
    "nbayes = MultinomialNB()\n",
    "\n",
    "nbayes.fit(X_traincv, y_train)"
   ]
  },
  {
   "cell_type": "markdown",
   "metadata": {},
   "source": [
    "**Predicting the fake or deceptive reviews**\n"
   ]
  },
  {
   "cell_type": "markdown",
   "metadata": {},
   "source": [
    "*using X_testcv : which is vectorized such that the dimensions are matched*"
   ]
  },
  {
   "cell_type": "code",
   "execution_count": 9,
   "metadata": {},
   "outputs": [],
   "source": [
    "y_predictions = nbayes.predict(X_testcv)"
   ]
  },
  {
   "cell_type": "markdown",
   "metadata": {},
   "source": [
    "** Printing out fake or deceptive reviews **"
   ]
  },
  {
   "cell_type": "code",
   "execution_count": 10,
   "metadata": {},
   "outputs": [],
   "source": [
    "y_result = list(y_predictions)\n",
    "yp=[\"True\" if a==1 else \"Deceptive\" for a in y_result]\n",
    "X_testlist = list(X_test)\n",
    "output_fm = pd.DataFrame({'Review':X_testlist ,'True(1)/Deceptive(0)':yp})"
   ]
  },
  {
   "cell_type": "markdown",
   "metadata": {},
   "source": [
    "** Printing out the Accuracy, Precision Score, Recall Score, F1 Score **"
   ]
  },
  {
   "cell_type": "code",
   "execution_count": 11,
   "metadata": {},
   "outputs": [
    {
     "name": "stdout",
     "output_type": "stream",
     "text": [
      "Accuracy % : 86.875\n",
      "Precision Score:  0.86875\n",
      "Recall Score:  0.86875\n",
      "F1 Score:  0.86875\n"
     ]
    }
   ],
   "source": [
    "print(\"Accuracy % :\",metrics.accuracy_score(y_test, y_predictions)*100)\n",
    "print(\"Precision Score: \", precision_score(y_test, y_predictions, average='micro'))\n",
    "print(\"Recall Score: \",recall_score(y_test, y_predictions, average='micro') )\n",
    "print(\"F1 Score: \",f1_score(y_test, y_predictions, average='micro') )"
   ]
  },
  {
   "cell_type": "code",
   "execution_count": null,
   "metadata": {},
   "outputs": [],
   "source": []
  }
 ],
 "metadata": {
  "anaconda-cloud": {},
  "kernelspec": {
   "display_name": "Python 3",
   "language": "python",
   "name": "python3"
  },
  "language_info": {
   "codemirror_mode": {
    "name": "ipython",
    "version": 3
   },
   "file_extension": ".py",
   "mimetype": "text/x-python",
   "name": "python",
   "nbconvert_exporter": "python",
   "pygments_lexer": "ipython3",
   "version": "3.7.0"
  }
 },
 "nbformat": 4,
 "nbformat_minor": 1
}
